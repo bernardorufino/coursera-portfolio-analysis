{
 "cells": [
  {
   "cell_type": "code",
   "execution_count": 1,
   "metadata": {},
   "outputs": [],
   "source": [
    "%config Completer.use_jedi = False\n",
    "%load_ext autoreload\n",
    "%autoreload 2\n",
    "import numpy as np\n",
    "import pandas as pd\n",
    "import riskkit as erk\n",
    "import scipy.stats as stats"
   ]
  },
  {
   "cell_type": "code",
   "execution_count": 2,
   "metadata": {},
   "outputs": [],
   "source": [
    "def subdescribe(prefix, s, n, mean_string=\"mean\", mean_f=lambda s: s.mean(), avg_mean_string=\"mean * p\", avg_mean_f=lambda s, p: s.mean() * p):\n",
    "    print('{}: p = {: >5.1f}%, {: >10} = {: >5.2f}, {: >10} = {: >5.2f}, std = {:.2f}, sum = {: >12.1f} =>  {: >5.2f} <= x <= {: >5.2f}'.format(\n",
    "        prefix, \n",
    "        float(s.size) / n * 100, \n",
    "        mean_string,\n",
    "        mean_f(s),\n",
    "        avg_mean_string,\n",
    "        avg_mean_f(s, float(s.size) / n),\n",
    "        s.std(),\n",
    "        s.sum(),\n",
    "        s.min(),\n",
    "        s.max()))\n",
    "    \n",
    "def subdescribe_sqrt(prefix, s, n):\n",
    "    subdescribe(prefix, s, n, \n",
    "                mean_string='sqrt(mean)', mean_f=lambda s: np.sqrt(s.mean()),\n",
    "                avg_mean_string='sqrt(mean) * p', avg_mean_f=lambda s, p: np.sqrt(s.mean())*p)\n",
    "\n",
    "def describe(s):\n",
    "    mean = s.mean()\n",
    "    std = s.std()\n",
    "    print('mean = {:.5f}, std = {:.2f}'.format(mean, std))\n",
    "    print()\n",
    "    subdescribe(     ' x - mean           {x}', s - mean, n)\n",
    "    print()\n",
    "    subdescribe(     ' x - mean    {x > mean}', s[s > mean] - mean, n)\n",
    "    subdescribe(     ' x - mean    {x < mean}', s[s < mean] - mean, n)\n",
    "    print()\n",
    "    subdescribe(     '|x - mean|   {x > mean}', np.abs(s[s > mean] - mean), n)\n",
    "    subdescribe(     '|x - mean|   {x < mean}', np.abs(s[s < mean] - mean), n)\n",
    "    print()\n",
    "    subdescribe_sqrt('(x - mean)^2 {x > mean}', (s[s > mean] - mean)**2, n)\n",
    "    subdescribe_sqrt('(x - mean)^2 {x < mean}', (s[s < mean] - mean)**2, n)"
   ]
  },
  {
   "cell_type": "code",
   "execution_count": 3,
   "metadata": {},
   "outputs": [
    {
     "name": "stdout",
     "output_type": "stream",
     "text": [
      "mean = 0.50003, std = 0.41\n",
      "\n",
      " x - mean           {x}: p = 100.0%,       mean =  0.00,   mean * p =  0.00, std = 0.41, sum =          0.0 =>  -0.50 <= x <=  1.00\n",
      "\n",
      " x - mean    {x > mean}: p =  33.3%,       mean =  0.50,   mean * p =  0.17, std = 0.29, sum =   16667271.9 =>   0.00 <= x <=  1.00\n",
      " x - mean    {x < mean}: p =  66.7%,       mean = -0.25,   mean * p = -0.17, std = 0.14, sum =  -16667271.9 =>  -0.50 <= x <= -0.00\n",
      "\n",
      "|x - mean|   {x > mean}: p =  33.3%,       mean =  0.50,   mean * p =  0.17, std = 0.29, sum =   16667271.9 =>   0.00 <= x <=  1.00\n",
      "|x - mean|   {x < mean}: p =  66.7%,       mean =  0.25,   mean * p =  0.17, std = 0.14, sum =   16667271.9 =>   0.00 <= x <=  0.50\n",
      "\n",
      "(x - mean)^2 {x > mean}: p =  33.3%, sqrt(mean) =  0.58, sqrt(mean) * p =  0.19, std = 0.30, sum =   11111716.8 =>   0.00 <= x <=  1.00\n",
      "(x - mean)^2 {x < mean}: p =  66.7%, sqrt(mean) =  0.29, sqrt(mean) * p =  0.19, std = 0.07, sum =    5555593.9 =>   0.00 <= x <=  0.25\n"
     ]
    }
   ],
   "source": [
    "n = 100_000_000\n",
    "n1 = int(.333333*n)\n",
    "n2 = n - n1\n",
    "\n",
    "s1 =    .5 + np.random.rand(n1) *  1 \n",
    "s2 =         np.random.rand(n2) * .5 \n",
    "s = np.hstack([s1, s2])\n",
    "\n",
    "describe(s)"
   ]
  },
  {
   "cell_type": "code",
   "execution_count": 221,
   "metadata": {},
   "outputs": [
    {
     "data": {
      "text/plain": [
       "'0.00'"
      ]
     },
     "execution_count": 221,
     "metadata": {},
     "output_type": "execute_result"
    }
   ],
   "source": [
    "'{:.2f}'.format(s.min())"
   ]
  },
  {
   "cell_type": "code",
   "execution_count": null,
   "metadata": {},
   "outputs": [],
   "source": []
  },
  {
   "cell_type": "code",
   "execution_count": 201,
   "metadata": {},
   "outputs": [
    {
     "data": {
      "text/plain": [
       "'     mean)'"
      ]
     },
     "execution_count": 201,
     "metadata": {},
     "output_type": "execute_result"
    }
   ],
   "source": [
    "\"{: >10}\".format(\"mean)\")"
   ]
  },
  {
   "cell_type": "code",
   "execution_count": null,
   "metadata": {},
   "outputs": [],
   "source": []
  }
 ],
 "metadata": {
  "kernelspec": {
   "display_name": "Python 3",
   "language": "python",
   "name": "python3"
  },
  "language_info": {
   "codemirror_mode": {
    "name": "ipython",
    "version": 3
   },
   "file_extension": ".py",
   "mimetype": "text/x-python",
   "name": "python",
   "nbconvert_exporter": "python",
   "pygments_lexer": "ipython3",
   "version": "3.8.5"
  }
 },
 "nbformat": 4,
 "nbformat_minor": 4
}
